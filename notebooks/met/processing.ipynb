{
 "cells": [
  {
   "cell_type": "markdown",
   "id": "0c0203b5-341e-4f1a-b33e-3d21e309433e",
   "metadata": {},
   "source": [
    "# Processing"
   ]
  },
  {
   "cell_type": "markdown",
   "id": "871b521c-0e46-4f13-bc92-2fd1a4f629b8",
   "metadata": {},
   "source": [
    "Source: [MET Data](https://pacompendium.com/wp-content/uploads/2024/03/1_2024-adult-compendium_1_2024.pdf)"
   ]
  },
  {
   "cell_type": "code",
   "execution_count": 1,
   "id": "103a9ac5-9462-47cb-8740-9672a15b2cd4",
   "metadata": {},
   "outputs": [],
   "source": [
    "!pip install PyPDF2 --quiet"
   ]
  },
  {
   "cell_type": "code",
   "execution_count": 2,
   "id": "8fe1bb87-afd6-4134-914d-784efb7ef841",
   "metadata": {},
   "outputs": [],
   "source": [
    "from PyPDF2 import PdfReader\n",
    "import pandas as pd\n",
    "from typing import List\n",
    "import re"
   ]
  },
  {
   "cell_type": "code",
   "execution_count": 9,
   "id": "59ca546a-3834-4e55-853c-449fdd36e733",
   "metadata": {
    "scrolled": true
   },
   "outputs": [],
   "source": [
    "reader = PdfReader(\"1_2024-adult-compendium_1_2024.pdf\")\n",
    "\n",
    "def read_rows(pages: reader.pages) -> List[str]:\n",
    "    rows = []\n",
    "    for page in pages:\n",
    "        text = page.extract_text().replace(\"\\xa0\", \"\")\n",
    "        rows.extend(text.split(\"\\n\"))\n",
    "    return rows\n",
    "\n",
    "def fix_trailing_rows(rows: List[str]) -> List[str]:\n",
    "    cleaned_rows = []\n",
    "    for idx,row in enumerate(rows[1:]):\n",
    "        if row.islower() or \"Kumina\" in row or '210)' in row:\n",
    "            cleaned_row = rows[idx] + f\" {row}\"\n",
    "            cleaned_rows.append(cleaned_row)\n",
    "        else:\n",
    "            cleaned_rows.append(row)\n",
    "    return cleaned_rows[1:]\n",
    "    \n",
    "def clean_rows(rows: List[str]) -> List[List[str]]:\n",
    "    clean_rows = []\n",
    "    for row in rows:\n",
    "        split_row = row.split(\" \")\n",
    "        for item in split_row:\n",
    "            if item.isnumeric():\n",
    "                category_idx = split_row.index(item)\n",
    "                break\n",
    "        activity = \" \".join(split_row[:category_idx]) \n",
    "        category = split_row[category_idx]\n",
    "        mte = split_row[category_idx + 1]\n",
    "        description = \" \".join(split_row[category_idx + 2:])\n",
    "        clean_row = [activity, category, mte, description]\n",
    "             \n",
    "        clean_rows.append(clean_row)\n",
    "    for row in clean_rows:\n",
    "        rows_merged = re.split(r'(\\d+\\.\\d+)', row[2])[1:]\n",
    "        if (len(rows_merged) == 2):\n",
    "            mte, description = rows_merged\n",
    "            row[2] = float(mte)\n",
    "            row[3] = f\"{description} \" + row[3]\n",
    "            row[3] = row[3].strip()\n",
    "    return clean_rows\n",
    "\n",
    "rows = read_rows(reader.pages)\n",
    "rows_non_trailing = fix_trailing_rows(rows)\n",
    "cleaned_rows = clean_rows(rows_non_trailing)"
   ]
  },
  {
   "cell_type": "code",
   "execution_count": 10,
   "id": "957a4608-8d3c-4b00-aa55-1b1bcdea1419",
   "metadata": {},
   "outputs": [],
   "source": [
    "df = pd.DataFrame(cleaned_rows, columns=[\"Actvitiy\", \"Code\", \"MET\", \"Description\"])"
   ]
  },
  {
   "cell_type": "code",
   "execution_count": 12,
   "id": "1c87bbb4-bf67-4885-9811-7ab0e3d3a531",
   "metadata": {},
   "outputs": [],
   "source": [
    "df.to_csv(\"met.csv\")"
   ]
  }
 ],
 "metadata": {
  "kernelspec": {
   "display_name": "Python 3 (ipykernel)",
   "language": "python",
   "name": "python3"
  },
  "language_info": {
   "codemirror_mode": {
    "name": "ipython",
    "version": 3
   },
   "file_extension": ".py",
   "mimetype": "text/x-python",
   "name": "python",
   "nbconvert_exporter": "python",
   "pygments_lexer": "ipython3",
   "version": "3.11.9"
  }
 },
 "nbformat": 4,
 "nbformat_minor": 5
}
