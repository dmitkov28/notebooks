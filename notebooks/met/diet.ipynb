{
 "cells": [
  {
   "cell_type": "markdown",
   "id": "d20a87ed-bbb2-455d-a90a-25b0a5956d3a",
   "metadata": {},
   "source": [
    "# Diet"
   ]
  },
  {
   "cell_type": "markdown",
   "id": "72bffbac-b1b5-4bad-a579-6179225ebd0d",
   "metadata": {},
   "source": [
    "## Key Concepts\n",
    "\n",
    "**MET (Metabolic Equivalent)**: The ratio of the work metabolic rate to the resting metabolic rate. One MET is defined as 1 kcal/kg/hour and is roughly equivalent to the energy cost of sitting quietly. A MET also is defined as oxygen uptake in ml/kg/min with one MET equal to the oxygen cost of sitting quietly, equivalent to 3.5 ml/kg/min. [Source](https://pacompendium.com/)\n",
    "[MET Data](https://pacompendium.com/wp-content/uploads/2024/03/1_2024-adult-compendium_1_2024.pdf)\n",
    "\n",
    "**BMR (Basal Metabolic Rate)**: Basal metabolic rate (BMR) is the rate of energy expenditure per unit time by endothermic animals at rest. [Source](https://en.wikipedia.org/wiki/Basal_metabolic_rate)\n",
    "\n",
    "### A good enough starting point\n",
    "The Mifflin-St Jeor equation is a widely used tool to determine the resting metabolic rate [RMR], which is defined as the number of calories burned while the body is in complete rest. RMR is also known as resting energy expenditure [REE]. The equation was developed by MD Mifflin and ST St Jeor and first introduced in a paper published in 1990.\n",
    "\n",
    "There are several equations for measuring RMR, including the most popular Harris-Benedict equation which was developed in 1919 and revised for accuracy in 1984. A comparative study of four predictive equations found that the Mifflin-St Jeor equation is more likely than the other equations to predict RMR to within 10% of that measured. [Source](https://reference.medscape.com/calculator/846/mifflin-st-jeor-equation)\n"
   ]
  },
  {
   "cell_type": "code",
   "execution_count": 141,
   "id": "64caa96a-9d30-4be3-aae7-4e0f142d1044",
   "metadata": {},
   "outputs": [],
   "source": [
    "import pandas as pd\n",
    "import matplotlib.pyplot as plt"
   ]
  },
  {
   "cell_type": "code",
   "execution_count": 131,
   "id": "7fc9c37b-8c61-48df-b5b1-3252af4c1f1b",
   "metadata": {},
   "outputs": [],
   "source": [
    "def calculate_bmr_mifflin_st_jeor(weight: int, height: int, age: int) -> float:\n",
    "    \"\"\"\n",
    "    Calculate BMR according to the Mifflin St. Jeor Equation -> (10*weight [kg]) + (6.25*height [cm]) – (5*age [years]) + 5\n",
    "    \"\"\"\n",
    "    return (10 * weight) + (6.25 * height) - (5 * age) + 5\n",
    "\n",
    "\n",
    "def calculate_calories_spent(met: float, weight: float, hours: int) -> float:\n",
    "    \"\"\"\n",
    "    Calculate calories spent according to MET value, weight & time spent \n",
    "    \"\"\"\n",
    "    return met * weight * hours\n",
    "\n",
    "\n",
    "def calculate_caloric_deficit(deficit_percentage: float, weight: int) -> float:\n",
    "    \"\"\"\n",
    "    Calculate caloric deficit required for desired percentage & weight\n",
    "    \"\"\"\n",
    "    CALORIES_PER_POUND = 3500\n",
    "    POUND_TO_KG = 2.2\n",
    "    CALORIES_PER_KG = 3500 / 2.2\n",
    "    return (deficit_percentage * weight) * CALORIES_PER_KG \n"
   ]
  },
  {
   "cell_type": "markdown",
   "id": "66d265ba-4cf6-4b51-8376-021fa707c33a",
   "metadata": {},
   "source": [
    "Assuming the following MET values & activities:"
   ]
  },
  {
   "cell_type": "code",
   "execution_count": 129,
   "id": "4a9a26d9-a2ab-43eb-93ea-be3ae6732a64",
   "metadata": {},
   "outputs": [],
   "source": [
    "WALKING_MET = 3\n",
    "WEIGHT_TRAINING_MET = 3.5"
   ]
  },
  {
   "cell_type": "markdown",
   "id": "1f2401fb-5184-4124-94fa-e8880b3c0aa6",
   "metadata": {},
   "source": [
    "Below is a simple target progression. As weight is moving down, BMR also decreases and thus requires calorie intake to drop as well.\n",
    "Several additional assumptions:\n",
    "\n",
    "- Weight Training amounts to 4 hours/week\n",
    "- Walking amounts to 28 hours a week (roughly 4 hours a day, or about 20km)"
   ]
  },
  {
   "cell_type": "code",
   "execution_count": 130,
   "id": "234ba65f-f123-4dd2-bb93-51f283b7f2a0",
   "metadata": {},
   "outputs": [],
   "source": [
    "initial_weight = 85\n",
    "final_weight = 79\n",
    "rows = []\n",
    "while True:\n",
    "    bmr = calculate_bmr_mifflin_st_jeor(weight=initial_weight, height=180, age=29)\n",
    "    calories_spent = (calculate_calories_spent(WALKING_MET, initial_weight, 28) + calculate_calories_spent(WEIGHT_TRAINING_MET, initial_weight, 4))/7\n",
    "    daily_deficit = calculate_caloric_deficit(0.01, initial_weight) / 7\n",
    "    total_calories = bmr + calories_spent\n",
    "    target_calories = total_calories - daily_deficit\n",
    "    if final_weight >= initial_weight:\n",
    "        break\n",
    "    \n",
    "    rows.append([initial_weight, bmr, calories_spent, total_calories, daily_deficit, target_calories])\n",
    "    new_weight = initial_weight - (initial_weight * 0.01)\n",
    "    initial_weight = new_weight"
   ]
  },
  {
   "cell_type": "code",
   "execution_count": 127,
   "id": "9e00abe0-3a20-4a49-a807-61d411f3351e",
   "metadata": {},
   "outputs": [],
   "source": [
    "df = pd.DataFrame(rows, columns=[\"TargetWeight\", \"BMR\", \"CaloriesSpent\", \"TotalCaloriesSpent\", \"DailyDeficit\", \"TargetCalories\"])"
   ]
  },
  {
   "cell_type": "code",
   "execution_count": 128,
   "id": "ac7a2c16-8c1b-4f7e-95ce-e169ed072060",
   "metadata": {
    "scrolled": true
   },
   "outputs": [
    {
     "data": {
      "text/html": [
       "<div>\n",
       "<style scoped>\n",
       "    .dataframe tbody tr th:only-of-type {\n",
       "        vertical-align: middle;\n",
       "    }\n",
       "\n",
       "    .dataframe tbody tr th {\n",
       "        vertical-align: top;\n",
       "    }\n",
       "\n",
       "    .dataframe thead th {\n",
       "        text-align: right;\n",
       "    }\n",
       "</style>\n",
       "<table border=\"1\" class=\"dataframe\">\n",
       "  <thead>\n",
       "    <tr style=\"text-align: right;\">\n",
       "      <th></th>\n",
       "      <th>TargetWeight</th>\n",
       "      <th>BMR</th>\n",
       "      <th>CaloriesSpent</th>\n",
       "      <th>TotalCaloriesSpent</th>\n",
       "      <th>DailyDeficit</th>\n",
       "      <th>TargetCalories</th>\n",
       "    </tr>\n",
       "  </thead>\n",
       "  <tbody>\n",
       "    <tr>\n",
       "      <th>0</th>\n",
       "      <td>85.000000</td>\n",
       "      <td>1835.000000</td>\n",
       "      <td>1190.000000</td>\n",
       "      <td>3025.000000</td>\n",
       "      <td>193.181818</td>\n",
       "      <td>2831.818182</td>\n",
       "    </tr>\n",
       "    <tr>\n",
       "      <th>1</th>\n",
       "      <td>84.150000</td>\n",
       "      <td>1826.500000</td>\n",
       "      <td>1178.100000</td>\n",
       "      <td>3004.600000</td>\n",
       "      <td>191.250000</td>\n",
       "      <td>2813.350000</td>\n",
       "    </tr>\n",
       "    <tr>\n",
       "      <th>2</th>\n",
       "      <td>83.308500</td>\n",
       "      <td>1818.085000</td>\n",
       "      <td>1166.319000</td>\n",
       "      <td>2984.404000</td>\n",
       "      <td>189.337500</td>\n",
       "      <td>2795.066500</td>\n",
       "    </tr>\n",
       "    <tr>\n",
       "      <th>3</th>\n",
       "      <td>82.475415</td>\n",
       "      <td>1809.754150</td>\n",
       "      <td>1154.655810</td>\n",
       "      <td>2964.409960</td>\n",
       "      <td>187.444125</td>\n",
       "      <td>2776.965835</td>\n",
       "    </tr>\n",
       "    <tr>\n",
       "      <th>4</th>\n",
       "      <td>81.650661</td>\n",
       "      <td>1801.506609</td>\n",
       "      <td>1143.109252</td>\n",
       "      <td>2944.615860</td>\n",
       "      <td>185.569684</td>\n",
       "      <td>2759.046177</td>\n",
       "    </tr>\n",
       "    <tr>\n",
       "      <th>5</th>\n",
       "      <td>80.834154</td>\n",
       "      <td>1793.341542</td>\n",
       "      <td>1131.678159</td>\n",
       "      <td>2925.019702</td>\n",
       "      <td>183.713987</td>\n",
       "      <td>2741.305715</td>\n",
       "    </tr>\n",
       "    <tr>\n",
       "      <th>6</th>\n",
       "      <td>80.025813</td>\n",
       "      <td>1785.258127</td>\n",
       "      <td>1120.361378</td>\n",
       "      <td>2905.619505</td>\n",
       "      <td>181.876847</td>\n",
       "      <td>2723.742658</td>\n",
       "    </tr>\n",
       "    <tr>\n",
       "      <th>7</th>\n",
       "      <td>79.225555</td>\n",
       "      <td>1777.255546</td>\n",
       "      <td>1109.157764</td>\n",
       "      <td>2886.413310</td>\n",
       "      <td>180.058079</td>\n",
       "      <td>2706.355231</td>\n",
       "    </tr>\n",
       "  </tbody>\n",
       "</table>\n",
       "</div>"
      ],
      "text/plain": [
       "   TargetWeight          BMR  CaloriesSpent  TotalCaloriesSpent  DailyDeficit  \\\n",
       "0     85.000000  1835.000000    1190.000000         3025.000000    193.181818   \n",
       "1     84.150000  1826.500000    1178.100000         3004.600000    191.250000   \n",
       "2     83.308500  1818.085000    1166.319000         2984.404000    189.337500   \n",
       "3     82.475415  1809.754150    1154.655810         2964.409960    187.444125   \n",
       "4     81.650661  1801.506609    1143.109252         2944.615860    185.569684   \n",
       "5     80.834154  1793.341542    1131.678159         2925.019702    183.713987   \n",
       "6     80.025813  1785.258127    1120.361378         2905.619505    181.876847   \n",
       "7     79.225555  1777.255546    1109.157764         2886.413310    180.058079   \n",
       "\n",
       "   TargetCalories  \n",
       "0     2831.818182  \n",
       "1     2813.350000  \n",
       "2     2795.066500  \n",
       "3     2776.965835  \n",
       "4     2759.046177  \n",
       "5     2741.305715  \n",
       "6     2723.742658  \n",
       "7     2706.355231  "
      ]
     },
     "execution_count": 128,
     "metadata": {},
     "output_type": "execute_result"
    }
   ],
   "source": [
    "df"
   ]
  },
  {
   "cell_type": "code",
   "execution_count": 148,
   "id": "762be772-a7c1-4768-a3ad-e36f8d03e736",
   "metadata": {},
   "outputs": [
    {
     "data": {
      "image/png": "[encoded data removed]",
      "text/plain": [
       "<Figure size 640x480 with 1 Axes>"
      ]
     },
     "metadata": {},
     "output_type": "display_data"
    }
   ],
   "source": [
    "plt.plot(df.index, df.TargetCalories)\n",
    "plt.scatter(x=df.index, y=df.TargetCalories)\n",
    "plt.title('Calorie Intake Progression')\n",
    "plt.xlabel('Week')\n",
    "plt.ylabel('Y-axis label')\n",
    "plt.show()"
   ]
  },
  {
   "cell_type": "code",
   "execution_count": 132,
   "id": "024f5742-dab0-48fc-b5a7-3dfbbd0fa741",
   "metadata": {},
   "outputs": [],
   "source": [
    "df.to_csv(\"diet.csv\")"
   ]
  }
 ],
 "metadata": {
  "kernelspec": {
   "display_name": "Python 3 (ipykernel)",
   "language": "python",
   "name": "python3"
  },
  "language_info": {
   "codemirror_mode": {
    "name": "ipython",
    "version": 3
   },
   "file_extension": ".py",
   "mimetype": "text/x-python",
   "name": "python",
   "nbconvert_exporter": "python",
   "pygments_lexer": "ipython3",
   "version": "3.11.9"
  }
 },
 "nbformat": 4,
 "nbformat_minor": 5
}
