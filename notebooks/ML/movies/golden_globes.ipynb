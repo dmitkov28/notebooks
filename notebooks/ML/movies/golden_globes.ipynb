{
 "cells": [
  {
   "cell_type": "code",
   "execution_count": 44,
   "id": "fceeb459-4ff6-419f-8a00-8311381d0112",
   "metadata": {},
   "outputs": [],
   "source": [
    "import httpx\n",
    "import json\n",
    "import time\n",
    "import pandas as pd\n",
    "import os"
   ]
  },
  {
   "cell_type": "markdown",
   "id": "8920c492-eb37-4496-927b-550da4212bac",
   "metadata": {},
   "source": [
    "## Data Extraction\n",
    "\n",
    "Extract the data from the Golden Globes Official Website"
   ]
  },
  {
   "cell_type": "code",
   "execution_count": 3,
   "id": "8e127bda-4f44-422c-b307-b419ceb5219a",
   "metadata": {},
   "outputs": [],
   "source": [
    "def get_golden_globes_page(page_number: int):\n",
    "    res = httpx.get(f\"https://goldenglobes.com/wp-json/awdb/v1/nominations/?page={page_number}\")\n",
    "    if res.status_code == 200:\n",
    "        return res.json()\n",
    "    return None"
   ]
  },
  {
   "cell_type": "code",
   "execution_count": 6,
   "id": "66062267-7a40-496d-b198-92d8a8a38714",
   "metadata": {},
   "outputs": [],
   "source": [
    "def get_pages_count():\n",
    "    res = httpx.get(f\"https://goldenglobes.com/wp-json/awdb/v1/nominations/\")\n",
    "    if res.status_code == 200:\n",
    "        pages = res.headers.get(\"x-wp-totalpages\")\n",
    "        if pages:\n",
    "            return int(pages)\n",
    "    return None"
   ]
  },
  {
   "cell_type": "code",
   "execution_count": 12,
   "id": "c37b2476-1ee4-42ac-a2bf-67b97bfdda3e",
   "metadata": {},
   "outputs": [],
   "source": [
    "def store_data(file_name: str, data: dict):\n",
    "    with open(f\"./golden_globes/{file_name}.json\", \"w\") as f:\n",
    "        json.dump(data, f)"
   ]
  },
  {
   "cell_type": "code",
   "execution_count": 16,
   "id": "e8c35bd2-6900-4945-9296-e5d57a381660",
   "metadata": {},
   "outputs": [],
   "source": [
    "pages = get_pages_count()\n",
    "for page in range(pages + 1):\n",
    "    page_data = get_golden_globes_page(page)\n",
    "    store_data(str(page), page_data)\n",
    "    time.sleep(1)"
   ]
  },
  {
   "cell_type": "markdown",
   "id": "d97fa8f5-0895-4de8-b889-d657e0fe95a0",
   "metadata": {},
   "source": [
    "## Data Processing\n",
    "\n",
    "Process the raw data and transform it into a pandas dataframe"
   ]
  },
  {
   "cell_type": "code",
   "execution_count": 57,
   "id": "5ea2363e-8e08-42c1-b950-f5ae0934861f",
   "metadata": {},
   "outputs": [],
   "source": [
    "def create_df():\n",
    "    df = pd.DataFrame(columns=[\n",
    "        \"nominee_type\",\n",
    "        \"year\",\n",
    "        \"winner\",\n",
    "        \"award\",\n",
    "        \"title\"\n",
    "    ])\n",
    "    return df\n",
    "\n",
    "def process_item(item: dict, idx_error: bool = False):\n",
    "    nominee_type = item.get(\"nominee_type\")\n",
    "    year = int(item.get(\"year\"))\n",
    "    winner = bool(item.get(\"winner\"))\n",
    "    award = item.get(\"award\")\n",
    "    title = item.get(\"title\") if idx_error else item.get(\"nominees\")[0].get(\"title\")\n",
    "\n",
    "    return {\n",
    "        \"nominee_type\": nominee_type,\n",
    "        \"year\": year,\n",
    "        \"winner\": winner,\n",
    "        \"award\": award,\n",
    "        \"title\": title\n",
    "    }\n",
    "\n",
    "df = create_df()\n",
    "\n",
    "\n",
    "files = sorted(os.listdir(\"./golden_globes/\"))[1:]\n",
    "for file in files:\n",
    "    full_path = \"./golden_globes/\" + file\n",
    "    with open(full_path, \"r\") as f:\n",
    "        data = json.load(f)\n",
    "    for item in data:\n",
    "        try:\n",
    "            processed_item = process_item(item)\n",
    "            df = pd.concat([df, pd.DataFrame([processed_item])], ignore_index=True)\n",
    "        except IndexError:\n",
    "            processed_item = process_item(item, idx_error=True)\n",
    "            df = pd.concat([df, pd.DataFrame([processed_item])], ignore_index=True)\n",
    "            \n",
    "        except Exception as e:\n",
    "            print(str(e), \" ----> \", item)\n",
    "            pass\n",
    "\n",
    "df.to_csv(\"Golden_Globes_Awards_Dataset.csv\")"
   ]
  }
 ],
 "metadata": {
  "kernelspec": {
   "display_name": "Python 3 (ipykernel)",
   "language": "python",
   "name": "python3"
  },
  "language_info": {
   "codemirror_mode": {
    "name": "ipython",
    "version": 3
   },
   "file_extension": ".py",
   "mimetype": "text/x-python",
   "name": "python",
   "nbconvert_exporter": "python",
   "pygments_lexer": "ipython3",
   "version": "3.11.9"
  }
 },
 "nbformat": 4,
 "nbformat_minor": 5
}
