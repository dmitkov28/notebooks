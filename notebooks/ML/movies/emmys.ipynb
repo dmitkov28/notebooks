{
 "cells": [
  {
   "cell_type": "code",
   "execution_count": 1,
   "id": "fd3f476d-035d-4780-b6ad-687e1597f470",
   "metadata": {},
   "outputs": [],
   "source": [
    "import pandas as pd\n",
    "import httpx\n",
    "import json\n",
    "from bs4 import BeautifulSoup"
   ]
  },
  {
   "cell_type": "markdown",
   "id": "761d2779-d378-425b-9c38-c1640ed7aaae",
   "metadata": {},
   "source": [
    "# Data Extraction"
   ]
  },
  {
   "cell_type": "code",
   "execution_count": 2,
   "id": "545fa72b-df12-42de-99f1-f2ad2e2adf8a",
   "metadata": {},
   "outputs": [],
   "source": [
    "acting_categories = (\n",
    "    \"outstanding-lead-actor-in-a-comedy-series\",\n",
    "    \"outstanding-supporting-actor-in-a-comedy-series\",\n",
    "    \"outstanding-guest-actor-in-a-comedy-series\",\n",
    "\n",
    "    \"outstanding-lead-actor-in-a-drama-series\",\n",
    "    \"outstanding-supporting-actor-in-a-drama-series\",\n",
    "    \"outstanding-guest-actor-in-a-drama-series\",\n",
    "\n",
    "    \"outstanding-lead-actor-in-a-miniseries-or-a-movie\",\n",
    "    \"outstanding-supporting-actor-in-a-miniseries-or-a-movie\",\n",
    "    \n",
    "    \"outstanding-lead-actress-in-a-comedy-series\",\n",
    "    \"outstanding-supporting-actress-in-a-comedy-series\",\n",
    "    \"outstanding-guest-actress-in-a-comedy-series\",\n",
    "\n",
    "    \"outstanding-lead-actress-in-a-drama-series\",\n",
    "    \"outstanding-supporting-actress-in-a-drama-series\",\n",
    "    \"outstanding-guest-actress-in-a-drama-series\",\n",
    "\n",
    "    \"outstanding-lead-actress-in-a-miniseries-or-a-movie\",\n",
    "    \"outstanding-supporting-actress-in-a-miniseries-or-a-movie\",\n",
    ")"
   ]
  },
  {
   "cell_type": "code",
   "execution_count": 3,
   "id": "7ca811fc-f9cd-49c1-8b3f-ab82425c69ca",
   "metadata": {},
   "outputs": [],
   "source": [
    "show_categories = (\n",
    "    \"outstanding-comedy-series\",\n",
    "    \"outstanding-drama-series\",\n",
    "    \"outstanding-miniseries\",\n",
    "    \"outstanding-made-for-television-movie\",\n",
    ")"
   ]
  },
  {
   "cell_type": "code",
   "execution_count": 4,
   "id": "24bf6b37-19f1-46c4-886d-4044830db2a0",
   "metadata": {},
   "outputs": [],
   "source": [
    "def get_emmys_page(year: int, category: str):\n",
    "    url = f\"https://www.emmys.com/awards/nominees-winners/{str(year)}/{category}\"\n",
    "    res = httpx.get(url)\n",
    "    if res.status_code == 200:\n",
    "        return res.text\n",
    "    return None\n",
    "\n",
    "def process_actors_page(page: str):\n",
    "    soup = BeautifulSoup(page, \"html.parser\")\n",
    "    nominees = soup.select(\".nom-bio-info-area\")\n",
    "    result = []\n",
    "    for nom in nominees:\n",
    "        nom_name = nom.find(\"h4\").find(\"a\").text\n",
    "        role_as = nom.find(\"div\", class_=\"role-as\").text\n",
    "        show_title = nom.find(\"div\", class_=\"show-title\").text\n",
    "        winner = True if nom.find(\"div\", class_=\"winner-accent-text\").text.lower() == \"winner\" else False\n",
    "        \n",
    "        result.append({\n",
    "            \"name\": nom_name,\n",
    "            \"role_as\": role_as, \n",
    "            \"show\": show_title,\n",
    "            \"winner\": winner\n",
    "        })\n",
    "    return result\n",
    "\n",
    "def process_show_page(page: str):\n",
    "    soup = BeautifulSoup(page, \"html.parser\")\n",
    "    nominees = soup.select(\".title\")\n",
    "    result = []\n",
    "    for nom in nominees:\n",
    "        nom_name = nom.find(\"h3\").find(\"a\").text\n",
    "        winner = True if nom.find(\"div\", class_=\"winner-accent-text\").text.lower() == \"winner\" else False\n",
    "        result.append({\"name\": nom_name, \"winner\": winner})\n",
    "    return result"
   ]
  },
  {
   "cell_type": "code",
   "execution_count": 5,
   "id": "0ef24db9-e7f0-457d-a137-32894bb3a105",
   "metadata": {},
   "outputs": [],
   "source": [
    "def get_actors(start: int, end: int):\n",
    "    for year in range(end, start - 1, -1):\n",
    "        data = []\n",
    "        for category in acting_categories:\n",
    "            page = get_emmys_page(year, category)\n",
    "            res = process_actors_page(page)\n",
    "            data.append({category: res})\n",
    "        \n",
    "        with open(f\"./emmys/actors_{str(year)}.json\", \"w\") as f:\n",
    "            json.dump(data, f)"
   ]
  },
  {
   "cell_type": "code",
   "execution_count": 8,
   "id": "70078beb-1902-4d7a-a036-e989c693d587",
   "metadata": {},
   "outputs": [],
   "source": [
    "def get_shows(start: int, end: int):\n",
    "    for year in range (end, start - 1, -1):\n",
    "        data = []\n",
    "        for category in show_categories:\n",
    "            page = get_emmys_page(year, category)\n",
    "            res = process_show_page(page)\n",
    "            data.append({category: res})\n",
    "         \n",
    "        with open(f\"./emmys/shows_{str(year)}.json\", \"w\") as f:\n",
    "                json.dump(data, f)"
   ]
  },
  {
   "cell_type": "code",
   "execution_count": 9,
   "id": "e6742f4a-5e29-481e-affe-21095df4b10c",
   "metadata": {},
   "outputs": [
    {
     "ename": "AttributeError",
     "evalue": "'NoneType' object has no attribute 'text'",
     "output_type": "error",
     "traceback": [
      "\u001b[0;31m---------------------------------------------------------------------------\u001b[0m",
      "\u001b[0;31mAttributeError\u001b[0m                            Traceback (most recent call last)",
      "Cell \u001b[0;32mIn[9], line 1\u001b[0m\n\u001b[0;32m----> 1\u001b[0m \u001b[43mget_actors\u001b[49m\u001b[43m(\u001b[49m\u001b[38;5;241;43m2000\u001b[39;49m\u001b[43m,\u001b[49m\u001b[43m \u001b[49m\u001b[38;5;241;43m2023\u001b[39;49m\u001b[43m)\u001b[49m\n\u001b[1;32m      2\u001b[0m get_shows(\u001b[38;5;241m2000\u001b[39m, \u001b[38;5;241m2023\u001b[39m)\n",
      "Cell \u001b[0;32mIn[5], line 6\u001b[0m, in \u001b[0;36mget_actors\u001b[0;34m(start, end)\u001b[0m\n\u001b[1;32m      4\u001b[0m \u001b[38;5;28;01mfor\u001b[39;00m category \u001b[38;5;129;01min\u001b[39;00m acting_categories:\n\u001b[1;32m      5\u001b[0m     page \u001b[38;5;241m=\u001b[39m get_emmys_page(year, category)\n\u001b[0;32m----> 6\u001b[0m     res \u001b[38;5;241m=\u001b[39m \u001b[43mprocess_actors_page\u001b[49m\u001b[43m(\u001b[49m\u001b[43mpage\u001b[49m\u001b[43m)\u001b[49m\n\u001b[1;32m      7\u001b[0m     data\u001b[38;5;241m.\u001b[39mappend({category: res})\n\u001b[1;32m      9\u001b[0m \u001b[38;5;28;01mwith\u001b[39;00m \u001b[38;5;28mopen\u001b[39m(\u001b[38;5;124mf\u001b[39m\u001b[38;5;124m\"\u001b[39m\u001b[38;5;124m./emmys/actors_\u001b[39m\u001b[38;5;132;01m{\u001b[39;00m\u001b[38;5;28mstr\u001b[39m(year)\u001b[38;5;132;01m}\u001b[39;00m\u001b[38;5;124m.json\u001b[39m\u001b[38;5;124m\"\u001b[39m, \u001b[38;5;124m\"\u001b[39m\u001b[38;5;124mw\u001b[39m\u001b[38;5;124m\"\u001b[39m) \u001b[38;5;28;01mas\u001b[39;00m f:\n",
      "Cell \u001b[0;32mIn[4], line 14\u001b[0m, in \u001b[0;36mprocess_actors_page\u001b[0;34m(page)\u001b[0m\n\u001b[1;32m     12\u001b[0m \u001b[38;5;28;01mfor\u001b[39;00m nom \u001b[38;5;129;01min\u001b[39;00m nominees:\n\u001b[1;32m     13\u001b[0m     nom_name \u001b[38;5;241m=\u001b[39m nom\u001b[38;5;241m.\u001b[39mfind(\u001b[38;5;124m\"\u001b[39m\u001b[38;5;124mh4\u001b[39m\u001b[38;5;124m\"\u001b[39m)\u001b[38;5;241m.\u001b[39mfind(\u001b[38;5;124m\"\u001b[39m\u001b[38;5;124ma\u001b[39m\u001b[38;5;124m\"\u001b[39m)\u001b[38;5;241m.\u001b[39mtext\n\u001b[0;32m---> 14\u001b[0m     role_as \u001b[38;5;241m=\u001b[39m \u001b[43mnom\u001b[49m\u001b[38;5;241;43m.\u001b[39;49m\u001b[43mfind\u001b[49m\u001b[43m(\u001b[49m\u001b[38;5;124;43m\"\u001b[39;49m\u001b[38;5;124;43mdiv\u001b[39;49m\u001b[38;5;124;43m\"\u001b[39;49m\u001b[43m,\u001b[49m\u001b[43m \u001b[49m\u001b[43mclass_\u001b[49m\u001b[38;5;241;43m=\u001b[39;49m\u001b[38;5;124;43m\"\u001b[39;49m\u001b[38;5;124;43mrole-as\u001b[39;49m\u001b[38;5;124;43m\"\u001b[39;49m\u001b[43m)\u001b[49m\u001b[38;5;241;43m.\u001b[39;49m\u001b[43mtext\u001b[49m\n\u001b[1;32m     15\u001b[0m     show_title \u001b[38;5;241m=\u001b[39m nom\u001b[38;5;241m.\u001b[39mfind(\u001b[38;5;124m\"\u001b[39m\u001b[38;5;124mdiv\u001b[39m\u001b[38;5;124m\"\u001b[39m, class_\u001b[38;5;241m=\u001b[39m\u001b[38;5;124m\"\u001b[39m\u001b[38;5;124mshow-title\u001b[39m\u001b[38;5;124m\"\u001b[39m)\u001b[38;5;241m.\u001b[39mtext\n\u001b[1;32m     16\u001b[0m     winner \u001b[38;5;241m=\u001b[39m \u001b[38;5;28;01mTrue\u001b[39;00m \u001b[38;5;28;01mif\u001b[39;00m nom\u001b[38;5;241m.\u001b[39mfind(\u001b[38;5;124m\"\u001b[39m\u001b[38;5;124mdiv\u001b[39m\u001b[38;5;124m\"\u001b[39m, class_\u001b[38;5;241m=\u001b[39m\u001b[38;5;124m\"\u001b[39m\u001b[38;5;124mwinner-accent-text\u001b[39m\u001b[38;5;124m\"\u001b[39m)\u001b[38;5;241m.\u001b[39mtext\u001b[38;5;241m.\u001b[39mlower() \u001b[38;5;241m==\u001b[39m \u001b[38;5;124m\"\u001b[39m\u001b[38;5;124mwinner\u001b[39m\u001b[38;5;124m\"\u001b[39m \u001b[38;5;28;01melse\u001b[39;00m \u001b[38;5;28;01mFalse\u001b[39;00m\n",
      "\u001b[0;31mAttributeError\u001b[0m: 'NoneType' object has no attribute 'text'"
     ]
    }
   ],
   "source": [
    "get_actors(2000, 2023)\n",
    "get_shows(2000, 2023)"
   ]
  }
 ],
 "metadata": {
  "kernelspec": {
   "display_name": "Python 3 (ipykernel)",
   "language": "python",
   "name": "python3"
  },
  "language_info": {
   "codemirror_mode": {
    "name": "ipython",
    "version": 3
   },
   "file_extension": ".py",
   "mimetype": "text/x-python",
   "name": "python",
   "nbconvert_exporter": "python",
   "pygments_lexer": "ipython3",
   "version": "3.11.9"
  }
 },
 "nbformat": 4,
 "nbformat_minor": 5
}
